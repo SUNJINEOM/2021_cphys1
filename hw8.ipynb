{
 "cells": [
  {
   "cell_type": "markdown",
   "metadata": {},
   "source": [
    "# hyperspere"
   ]
  },
  {
   "cell_type": "code",
   "execution_count": 2,
   "metadata": {},
   "outputs": [],
   "source": [
    "import numpy as np\n",
    "import matplotlib.pyplot as plt"
   ]
  },
  {
   "cell_type": "code",
   "execution_count": 3,
   "metadata": {},
   "outputs": [],
   "source": [
    "import random\n",
    "import numpy as np\n",
    "\n",
    "def v_hyperspere_3d(n):\n",
    "    count=0\n",
    "    for i in range(n):\n",
    "        x,y,z=random.random(), random.random(), random.random()\n",
    "        if x*x+y*y+z*z<1:\n",
    "            count+=1\n",
    "    return 9*count/n"
   ]
  },
  {
   "cell_type": "code",
   "execution_count": 4,
   "metadata": {},
   "outputs": [],
   "source": [
    "def v_hyperspere_4d(n):\n",
    "    count=0\n",
    "    for i in range(n):\n",
    "        x,y,z,w=random.random(), random.random(), random.random(),random.random()\n",
    "        if x*x+y*y+z*z+w*w<1:\n",
    "            count+=1\n",
    "    return 16*count/n"
   ]
  },
  {
   "cell_type": "code",
   "execution_count": 5,
   "metadata": {},
   "outputs": [],
   "source": [
    "def v_hyperspere_5d(n):\n",
    "    count=0\n",
    "    for i in range(n):\n",
    "        x,y,z,w,v=random.random(), random.random(), random.random(), random.random(), random.random()\n",
    "        if x*x+y*y+z*z+w*w+v*v<1:\n",
    "            count+=1\n",
    "    return 25*count/n"
   ]
  },
  {
   "cell_type": "code",
   "execution_count": 6,
   "metadata": {},
   "outputs": [
    {
     "data": {
      "text/plain": [
       "(4.68, 5.76, 3.5)"
      ]
     },
     "execution_count": 6,
     "metadata": {},
     "output_type": "execute_result"
    }
   ],
   "source": [
    "v_hyperspere_3d(100),v_hyperspere_4d(100),v_hyperspere_5d(100)"
   ]
  },
  {
   "cell_type": "markdown",
   "metadata": {},
   "source": [
    "# Particle in the box"
   ]
  },
  {
   "cell_type": "code",
   "execution_count": 7,
   "metadata": {},
   "outputs": [],
   "source": [
    "def aveE(b,n):\n",
    "    state = np.ones(n)\n",
    "    for t in range(n*100):\n",
    "        i=random.randint(0,n-1)\n",
    "        if random.random() <1/2:\n",
    "            if state[i]==1:\n",
    "                pass\n",
    "            else:\n",
    "                state[i]=((state[i]**(1/2)-1)**2)\n",
    "                \n",
    "        else:\n",
    "            DE=2*(state[i]**1/2)+1\n",
    "            if random.random() < np.exp(-b*DE):\n",
    "                state[i]=((state[i]**(1/2)+1)**2)\n",
    "        \n",
    "    return sum(state)"
   ]
  },
  {
   "cell_type": "code",
   "execution_count": 8,
   "metadata": {},
   "outputs": [
    {
     "data": {
      "text/plain": [
       "<function matplotlib.pyplot.show(close=None, block=None)>"
      ]
     },
     "execution_count": 8,
     "metadata": {},
     "output_type": "execute_result"
    },
    {
     "data": {
      "image/png": "[encoded data removed]",
      "text/plain": [
       "<Figure size 432x288 with 1 Axes>"
      ]
     },
     "metadata": {
      "needs_background": "light"
     },
     "output_type": "display_data"
    }
   ],
   "source": [
    "temp=np.arange(1,20,2)\n",
    "y=[aveE(1/t,1000) for t in temp]\n",
    "b=np.arange(1,20,0.1)\n",
    "th=-1000*np.tanh(1/b)\n",
    "\n",
    "plt.xlabel('temperature')\n",
    "plt.ylabel('<E>')\n",
    "plt.plot(temp,y,'o')\n",
    "plt.plot(b,th)\n",
    "plt.show\n"
   ]
  },
  {
   "cell_type": "code",
   "execution_count": null,
   "metadata": {},
   "outputs": [],
   "source": []
  }
 ],
 "metadata": {
  "kernelspec": {
   "display_name": "Python 3",
   "language": "python",
   "name": "python3"
  },
  "language_info": {
   "codemirror_mode": {
    "name": "ipython",
    "version": 3
   },
   "file_extension": ".py",
   "mimetype": "text/x-python",
   "name": "python",
   "nbconvert_exporter": "python",
   "pygments_lexer": "ipython3",
   "version": "3.8.5"
  }
 },
 "nbformat": 4,
 "nbformat_minor": 4
}
