{
 "cells": [
  {
   "cell_type": "markdown",
   "metadata": {},
   "source": [
    "# Traveling salesman"
   ]
  },
  {
   "cell_type": "code",
   "execution_count": 14,
   "metadata": {},
   "outputs": [],
   "source": [
    "import numpy as np\n",
    "import matplotlib.pyplot as plt\n",
    "import random\n",
    "\n",
    "x=[0, 10, 9, 5, 10, 5, 4, 2, 8, 9]\n",
    "y=[10, 0, 6, 8, 4, 3, 2, 7, 3, 2]"
   ]
  },
  {
   "cell_type": "code",
   "execution_count": 15,
   "metadata": {},
   "outputs": [
    {
     "data": {
      "text/plain": [
       "51.623872342863045"
      ]
     },
     "execution_count": 15,
     "metadata": {},
     "output_type": "execute_result"
    }
   ],
   "source": [
    "def dist(x,y):\n",
    "    z=0\n",
    "    for i in range(9):\n",
    "        z+=np.sqrt((x[i+1]-x[i])**2+(y[i+1]-y[i])**2)\n",
    "    return z\n",
    "dist(x,y)"
   ]
  },
  {
   "cell_type": "code",
   "execution_count": 16,
   "metadata": {},
   "outputs": [],
   "source": [
    "def de(i,j,x,y):\n",
    "    nx, ny = x[:], y[:]\n",
    "    nx[i], nx[j] = nx[j], nx[i]\n",
    "    ny[i], ny[j] = ny[j], ny[i]\n",
    "    return dist(nx,ny)-dist(x,y)"
   ]
  },
  {
   "cell_type": "code",
   "execution_count": 17,
   "metadata": {},
   "outputs": [],
   "source": [
    "def swap(x,y,b):\n",
    "    i=random.randint(0,9)\n",
    "    j=random.randint(0,9)\n",
    "    delta=de(i,j,x,y)\n",
    "    if(delta<0):\n",
    "        x[i], x[j] = x[j], x[i]\n",
    "        y[i], y[j] = y[j], y[i]\n",
    "    else:\n",
    "        if(random.random()<np.exp(-b*delta)):\n",
    "            x[i], x[j] = x[j], x[i]\n",
    "            y[i], y[j] = y[j], y[i]\n",
    "    return x,y"
   ]
  },
  {
   "cell_type": "code",
   "execution_count": 44,
   "metadata": {},
   "outputs": [],
   "source": [
    "Tmax=20\n",
    "tau=1000\n",
    "for t in range(100000):\n",
    "    T=Tmax*np.exp(-t/tau)\n",
    "    b=1/T\n",
    "    swap(x,y,b)"
   ]
  },
  {
   "cell_type": "code",
   "execution_count": 45,
   "metadata": {},
   "outputs": [
    {
     "name": "stdout",
     "output_type": "stream",
     "text": [
      "25.540527970377717\n"
     ]
    },
    {
     "data": {
      "image/png": "[encoded data removed]",
      "text/plain": [
       "<Figure size 432x288 with 1 Axes>"
      ]
     },
     "metadata": {
      "needs_background": "light"
     },
     "output_type": "display_data"
    }
   ],
   "source": [
    "print(dist(x,y))    \n",
    "plt.plot(x,y,'o')\n",
    "plt.plot(x,y)\n",
    "plt.show()"
   ]
  },
  {
   "cell_type": "code",
   "execution_count": null,
   "metadata": {},
   "outputs": [],
   "source": []
  }
 ],
 "metadata": {
  "kernelspec": {
   "display_name": "Python 3",
   "language": "python",
   "name": "python3"
  },
  "language_info": {
   "codemirror_mode": {
    "name": "ipython",
    "version": 3
   },
   "file_extension": ".py",
   "mimetype": "text/x-python",
   "name": "python",
   "nbconvert_exporter": "python",
   "pygments_lexer": "ipython3",
   "version": "3.8.5"
  }
 },
 "nbformat": 4,
 "nbformat_minor": 4
}
