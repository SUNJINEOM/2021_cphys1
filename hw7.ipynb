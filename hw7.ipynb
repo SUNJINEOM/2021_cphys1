{
 "cells": [
  {
   "cell_type": "markdown",
   "metadata": {},
   "source": [
    "# Pauli Matrices"
   ]
  },
  {
   "cell_type": "code",
   "execution_count": 1,
   "metadata": {},
   "outputs": [],
   "source": [
    "import matplotlib.pyplot as plt\n",
    "import numpy as np"
   ]
  },
  {
   "cell_type": "code",
   "execution_count": 10,
   "metadata": {},
   "outputs": [],
   "source": [
    "sx=np.array([[0,1],[1,0]])\n",
    "ex=np.linalg.eig(sx)\n",
    "\n",
    "sy=np.array([[0,-1j],[1j,0]])\n",
    "ey=np.linalg.eig(sy)\n",
    "\n",
    "sz=np.array([[1,0],[0,-1]])\n",
    "ez=np.linalg.eig(sz)"
   ]
  },
  {
   "cell_type": "code",
   "execution_count": 13,
   "metadata": {},
   "outputs": [
    {
     "data": {
      "text/plain": [
       "((array([ 1., -1.]),\n",
       "  array([[ 0.70710678, -0.70710678],\n",
       "         [ 0.70710678,  0.70710678]])),\n",
       " (array([ 1.+0.j, -1.+0.j]),\n",
       "  array([[-0.        -0.70710678j,  0.70710678+0.j        ],\n",
       "         [ 0.70710678+0.j        ,  0.        -0.70710678j]])),\n",
       " (array([ 1., -1.]),\n",
       "  array([[1., 0.],\n",
       "         [0., 1.]])))"
      ]
     },
     "execution_count": 13,
     "metadata": {},
     "output_type": "execute_result"
    }
   ],
   "source": [
    "ex,ey,ez"
   ]
  },
  {
   "cell_type": "markdown",
   "metadata": {},
   "source": [
    "# Normal mode"
   ]
  },
  {
   "cell_type": "code",
   "execution_count": 14,
   "metadata": {},
   "outputs": [
    {
     "data": {
      "text/plain": [
       "array([[ 2, -1],\n",
       "       [-1,  2]])"
      ]
     },
     "execution_count": 14,
     "metadata": {},
     "output_type": "execute_result"
    }
   ],
   "source": [
    "a=np.array([[2,-1],[-1,2]])\n",
    "a"
   ]
  },
  {
   "cell_type": "code",
   "execution_count": 15,
   "metadata": {},
   "outputs": [
    {
     "data": {
      "text/plain": [
       "(array([3., 1.]),\n",
       " array([[ 0.70710678,  0.70710678],\n",
       "        [-0.70710678,  0.70710678]]))"
      ]
     },
     "execution_count": 15,
     "metadata": {},
     "output_type": "execute_result"
    }
   ],
   "source": [
    "ea=np.linalg.eig(a)\n",
    "ea"
   ]
  },
  {
   "cell_type": "markdown",
   "metadata": {},
   "source": [
    "###### 직교성분이 내적했을때  0이므로, 고유벡터 a의 성분 a_ij는 직교조건으로 부터 계산할수 있다. \n",
    "###### 표준좌표로 보았을 때 w1은 같은 위상을 가지며, w2는 역위상을 같게 된다."
   ]
  },
  {
   "cell_type": "code",
   "execution_count": null,
   "metadata": {},
   "outputs": [],
   "source": []
  }
 ],
 "metadata": {
  "kernelspec": {
   "display_name": "Python 3",
   "language": "python",
   "name": "python3"
  },
  "language_info": {
   "codemirror_mode": {
    "name": "ipython",
    "version": 3
   },
   "file_extension": ".py",
   "mimetype": "text/x-python",
   "name": "python",
   "nbconvert_exporter": "python",
   "pygments_lexer": "ipython3",
   "version": "3.8.5"
  }
 },
 "nbformat": 4,
 "nbformat_minor": 4
}
